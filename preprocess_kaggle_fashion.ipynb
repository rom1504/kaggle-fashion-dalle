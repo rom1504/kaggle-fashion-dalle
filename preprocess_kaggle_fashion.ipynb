{
 "cells": [
  {
   "cell_type": "code",
   "execution_count": 1,
   "id": "b2f7be5c",
   "metadata": {},
   "outputs": [],
   "source": [
    "from glob import glob\n",
    "import json"
   ]
  },
  {
   "cell_type": "code",
   "execution_count": 2,
   "id": "e18fc502",
   "metadata": {},
   "outputs": [],
   "source": [
    "metadata = glob(\"/home/r.beaumont/fashion/styles/*\")"
   ]
  },
  {
   "cell_type": "code",
   "execution_count": 17,
   "id": "a71d065f",
   "metadata": {},
   "outputs": [],
   "source": [
    "def extract_captions(meta):\n",
    "    m = json.load(open(meta, \"r\"))\n",
    "    data = m['data']\n",
    "    title = data['productDisplayName']\n",
    "    description = re.sub(' +', ' ', re.sub('<[^<]+?>|&.+?;', ' ', \n",
    "                                           data['productDescriptors']['description']['value'])\n",
    "                         .replace(\"\\n\", \" \")).strip() if 'description' in data['productDescriptors'] else None\n",
    "    \n",
    "    keys = ['brandName', 'ageGroup', 'gender', 'baseColour', 'fashionType', 'season', 'year', 'usage']\n",
    "    cats = []\n",
    "    for key in keys:\n",
    "        if key in data:\n",
    "            cats.append(data[key])\n",
    "    if 'articleAttributes' in data:\n",
    "        cats.extend(data['articleAttributes'].values())\n",
    "    if 'articleType' in data:\n",
    "        cats.append(data[\"articleType\"][\"typeName\"])\n",
    "    if 'masterCategory' in data:\n",
    "        cats.append(data[\"masterCategory\"][\"typeName\"])\n",
    "    if 'subCategory' in data:\n",
    "        cats.append(data[\"subCategory\"][\"typeName\"])\n",
    "    categories = \" \".join(cats)\n",
    "    return title, description, categories"
   ]
  },
  {
   "cell_type": "code",
   "execution_count": 19,
   "id": "690e094e",
   "metadata": {
    "scrolled": false
   },
   "outputs": [
    {
     "name": "stderr",
     "output_type": "stream",
     "text": [
      "100%|██████████| 44446/44446 [00:11<00:00, 3735.79it/s]\n"
     ]
    }
   ],
   "source": [
    "import re\n",
    "import sys\n",
    "from tqdm import tqdm\n",
    "import os\n",
    "output_dir = '/home/r.beaumont/output_fashion'\n",
    "fake = False\n",
    "i=0\n",
    "for meta in tqdm(metadata):\n",
    "    name = os.path.splitext(os.path.basename(meta))[0]\n",
    "    title, description, categories = extract_captions(meta)\n",
    "    if fake:\n",
    "        print(name)\n",
    "        print(title)\n",
    "        print(description)\n",
    "        print(categories)\n",
    "        print(\"\")\n",
    "    if fake:\n",
    "        i+=1\n",
    "        if i == 10:\n",
    "            break\n",
    "    else:\n",
    "        with open(output_dir+\"/\"+name+\".txt\", \"w\") as f:\n",
    "            captions = [title, categories]\n",
    "            if description is not None:\n",
    "                captions.append(description)\n",
    "            f.write(\"\\n\".join(captions))"
   ]
  },
  {
   "cell_type": "code",
   "execution_count": 49,
   "id": "73a5a6cc",
   "metadata": {},
   "outputs": [
    {
     "name": "stdout",
     "output_type": "stream",
     "text": [
      "Looking in indexes: http://build-nexus.prod.crto.in/repository/pypi/simple\r\n",
      "Requirement already satisfied: tqdm in ./.env_prepro/lib/python3.6/site-packages (4.61.0)\r\n"
     ]
    }
   ],
   "source": [
    "!pip install tqdm"
   ]
  },
  {
   "cell_type": "code",
   "execution_count": null,
   "id": "cfbb3e1a",
   "metadata": {},
   "outputs": [],
   "source": []
  }
 ],
 "metadata": {
  "kernelspec": {
   "display_name": "Python 3",
   "language": "python",
   "name": "python3"
  },
  "language_info": {
   "codemirror_mode": {
    "name": "ipython",
    "version": 3
   },
   "file_extension": ".py",
   "mimetype": "text/x-python",
   "name": "python",
   "nbconvert_exporter": "python",
   "pygments_lexer": "ipython3",
   "version": "3.6.8"
  }
 },
 "nbformat": 4,
 "nbformat_minor": 5
}
